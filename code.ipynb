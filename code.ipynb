{
 "cells": [
  {
   "cell_type": "code",
   "execution_count": 1,
   "metadata": {},
   "outputs": [],
   "source": [
    "import openai\n",
    "import sqlite3 as sq\n",
    "openai.api_key = 'Open ai key'"
   ]
  },
  {
   "cell_type": "code",
   "execution_count": 2,
   "metadata": {},
   "outputs": [],
   "source": [
    "def gen_query(input):\n",
    "    prompt = \"Return the Sqlite query which can be copied directly for the following required information from table 'football' having columns player_id int, name char(20) DEFAULT NULL, nationality, matches, goals, assists, minutes_played, shots, shots_on_target, fouls_committed, yellow_cards, red_cards :f{input}\"\n",
    "    try:\n",
    "        response = openai.Completion.create(\n",
    "            model=\"gpt-3.5-turbo-instruct\",\n",
    "            prompt=prompt,\n",
    "            max_tokens=100,\n",
    "            temperature=0.7\n",
    "        )\n",
    "        return response.choices[0].text.strip()\n",
    "    except Exception as e:\n",
    "        print(f\"An error occurred: {e}\")\n",
    "        return None"
   ]
  },
  {
   "cell_type": "code",
   "execution_count": 5,
   "metadata": {},
   "outputs": [],
   "source": [
    "def execute_query(sql_query, db):\n",
    "    try:\n",
    "        database = sq.connect(db)\n",
    "        cur = database.cursor()\n",
    "        cur.execute(sql_query)\n",
    "        rows = cur.fetchall()\n",
    "        database.commit()\n",
    "    except sq.Error as e:\n",
    "        print(f\"An error occurred: {e}\")\n",
    "        rows = []\n",
    "    finally:\n",
    "        if database:\n",
    "            database.close()\n",
    "    if rows:\n",
    "        \n",
    "            print(\"here:{row}\")\n",
    "    else:\n",
    "        print(\"no rows\")\n",
    "    return rows\n",
    "    "
   ]
  },
  {
   "cell_type": "code",
   "execution_count": 6,
   "metadata": {},
   "outputs": [
    {
     "data": {
      "text/plain": [
       "'SELECT player_id, name, nationality, matches, goals, assists, minutes_played, shots, shots_on_target, fouls_committed, yellow_cards, red_cards FROM football'"
      ]
     },
     "execution_count": 6,
     "metadata": {},
     "output_type": "execute_result"
    }
   ],
   "source": [
    "input = \"select table\"\n",
    "sql_query = gen_query(input)\n",
    "sql_query"
   ]
  },
  {
   "cell_type": "code",
   "execution_count": 7,
   "metadata": {},
   "outputs": [
    {
     "name": "stdout",
     "output_type": "stream",
     "text": [
      "here:{row}\n"
     ]
    },
    {
     "data": {
      "text/plain": [
       "[(1, 'ronaldo', 'portugal', 10, 5, 2, 900, 15, 10, 3, 1, 0),\n",
       " (2, 'Lionel Messi', 'Argentina', 9, 6, 4, 810, 18, 10, 3, 2, 0),\n",
       " (3, 'Neymar Jr', 'Brazil', 11, 7, 5, 990, 22, 15, 7, 2, 0),\n",
       " (4, 'Kylian Mbappe', 'France', 12, 9, 2, 1080, 25, 18, 4, 1, 0),\n",
       " (5, 'Mohamed Salah', 'Egypt', 8, 5, 3, 720, 15, 10, 6, 0, 0),\n",
       " (6, 'Robert Lewandowski', 'Poland', 11, 10, 1, 990, 23, 16, 3, 0, 0),\n",
       " (7, 'Harry Kane', 'England', 10, 7, 3, 900, 19, 12, 4, 1, 0),\n",
       " (8, 'Kevin De Bruyne', 'Belgium', 9, 3, 8, 810, 12, 6, 9, 1, 0),\n",
       " (9, 'Sergio Ramos', 'Spain', 10, 2, 1, 900, 5, 3, 15, 3, 1),\n",
       " (10, 'Luis Suarez', 'Uruguay', 7, 4, 3, 630, 10, 6, 5, 1, 0)]"
      ]
     },
     "execution_count": 7,
     "metadata": {},
     "output_type": "execute_result"
    }
   ],
   "source": [
    "execute_query(sql_query, 'football.db')\n"
   ]
  },
  {
   "cell_type": "code",
   "execution_count": 11,
   "metadata": {},
   "outputs": [
    {
     "name": "stdout",
     "output_type": "stream",
     "text": [
      "here:{row}\n"
     ]
    }
   ],
   "source": [
    "dbb = sq.connect('football.db')\n",
    "cur = dbb.cursor()\n",
    "s=\"SELECT player_id, name, nationality, matches, goals, assists, minutes_played, shots, shots_on_target, fouls_committed, yellow_cards, red_cards \\nFROM football \\nWHERE goals > 4;\"\n",
    "cur.execute(s)\n",
    "rows = cur.fetchall()\n",
    "if rows:\n",
    "        for row in rows:\n",
    "            print(\"here:{row}\")\n",
    "else:\n",
    "        print(\"no rows\")"
   ]
  },
  {
   "cell_type": "code",
   "execution_count": null,
   "metadata": {},
   "outputs": [],
   "source": []
  }
 ],
 "metadata": {
  "kernelspec": {
   "display_name": "Python 3 (ipykernel)",
   "language": "python",
   "name": "python3"
  },
  "language_info": {
   "codemirror_mode": {
    "name": "ipython",
    "version": 3
   },
   "file_extension": ".py",
   "mimetype": "text/x-python",
   "name": "python",
   "nbconvert_exporter": "python",
   "pygments_lexer": "ipython3",
   "version": "3.11.4"
  }
 },
 "nbformat": 4,
 "nbformat_minor": 2
}
